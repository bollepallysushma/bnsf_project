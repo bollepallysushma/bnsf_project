{
 "cells": [
  {
   "cell_type": "code",
   "execution_count": 22,
   "id": "fe150bd1",
   "metadata": {},
   "outputs": [],
   "source": [
    "import requests"
   ]
  },
  {
   "cell_type": "code",
   "execution_count": 25,
   "id": "d78bd46a",
   "metadata": {},
   "outputs": [],
   "source": [
    "# r = requests.post('http://127.0.0.1:5000/contacts', headers={\"Content-Type\": \"text/plain\"}, data ={\"name\":\"ravi\", \"phone\":\"67676767\", \"email\":\"ravi@gmail.com\"})"
   ]
  },
  {
   "cell_type": "code",
   "execution_count": 31,
   "id": "27303a9b",
   "metadata": {},
   "outputs": [],
   "source": [
    "r = requests.post('http://127.0.0.1:5000/contacts',headers={\"Content-Type\": \"application/json\"}, data ={\"name\":\"ravi\", \"phone\":\"67676767\", \"email\":\"ravi@gmail.com\"})"
   ]
  },
  {
   "cell_type": "code",
   "execution_count": 32,
   "id": "efaf6e31",
   "metadata": {},
   "outputs": [
    {
     "data": {
      "text/plain": [
       "<Response [400]>"
      ]
     },
     "execution_count": 32,
     "metadata": {},
     "output_type": "execute_result"
    }
   ],
   "source": [
    "r"
   ]
  },
  {
   "cell_type": "code",
   "execution_count": null,
   "id": "54892149",
   "metadata": {},
   "outputs": [],
   "source": []
  },
  {
   "cell_type": "code",
   "execution_count": null,
   "id": "9f2667f6",
   "metadata": {},
   "outputs": [],
   "source": []
  }
 ],
 "metadata": {
  "kernelspec": {
   "display_name": "Python 3 (ipykernel)",
   "language": "python",
   "name": "python3"
  },
  "language_info": {
   "codemirror_mode": {
    "name": "ipython",
    "version": 3
   },
   "file_extension": ".py",
   "mimetype": "text/x-python",
   "name": "python",
   "nbconvert_exporter": "python",
   "pygments_lexer": "ipython3",
   "version": "3.9.12"
  }
 },
 "nbformat": 4,
 "nbformat_minor": 5
}
